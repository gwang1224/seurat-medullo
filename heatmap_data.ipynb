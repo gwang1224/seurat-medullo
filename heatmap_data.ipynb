{
 "cells": [
  {
   "cell_type": "code",
   "execution_count": 1,
   "metadata": {},
   "outputs": [
    {
     "name": "stderr",
     "output_type": "stream",
     "text": [
      "/var/folders/pl/pg3bvqz92xqgj0sbq31wjfqr0000gn/T/ipykernel_60436/584824882.py:2: DeprecationWarning: \n",
      "Pyarrow will become a required dependency of pandas in the next major release of pandas (pandas 3.0),\n",
      "(to allow more performant data types, such as the Arrow string type, and better interoperability with other libraries)\n",
      "but was not found to be installed on your system.\n",
      "If this would cause problems for you,\n",
      "please provide us feedback at https://github.com/pandas-dev/pandas/issues/54466\n",
      "        \n",
      "  import pandas as pd\n"
     ]
    }
   ],
   "source": [
    "import csv\n",
    "import pandas as pd"
   ]
  },
  {
   "cell_type": "code",
   "execution_count": 8,
   "metadata": {},
   "outputs": [
    {
     "name": "stdout",
     "output_type": "stream",
     "text": [
      "['/Users/gracewang/Documents/mesirov_lab/seurat-medullo/panglao_subclusters/subcluster0.csv', '/Users/gracewang/Documents/mesirov_lab/seurat-medullo/panglao_subclusters/subcluster1.csv', '/Users/gracewang/Documents/mesirov_lab/seurat-medullo/panglao_subclusters/subcluster2.csv', '/Users/gracewang/Documents/mesirov_lab/seurat-medullo/panglao_subclusters/subcluster3.csv', '/Users/gracewang/Documents/mesirov_lab/seurat-medullo/panglao_subclusters/subcluster4.csv', '/Users/gracewang/Documents/mesirov_lab/seurat-medullo/panglao_subclusters/subcluster5.csv', '/Users/gracewang/Documents/mesirov_lab/seurat-medullo/panglao_subclusters/subcluster6.csv', '/Users/gracewang/Documents/mesirov_lab/seurat-medullo/panglao_subclusters/subcluster7.csv', '/Users/gracewang/Documents/mesirov_lab/seurat-medullo/panglao_subclusters/subcluster8.csv']\n"
     ]
    }
   ],
   "source": [
    "files = [\n",
    "    'subcluster0',\n",
    "    'subcluster1',\n",
    "    'subcluster2',\n",
    "    'subcluster3',\n",
    "    'subcluster4',\n",
    "    'subcluster5',\n",
    "    'subcluster6',\n",
    "    'subcluster7',\n",
    "    'subcluster8'\n",
    "]\n",
    "\n",
    "for i in range(len(files)):\n",
    "    files[i] = '/Users/gracewang/Documents/mesirov_lab/seurat-medullo/panglao_subclusters/' + files[i] + \".csv\"\n",
    "\n",
    "print(files)"
   ]
  },
  {
   "cell_type": "code",
   "execution_count": 51,
   "metadata": {},
   "outputs": [],
   "source": [
    "def get_file_name(path):\n",
    "    name = path.split(\"/\")[-1].split(\".\")[0]\n",
    "    return name\n",
    "\n",
    "def make_df(file_list, rank_cut_off):\n",
    "    gene_list = []\n",
    "    cell_type_list = []\n",
    "    data_dict = {}\n",
    "\n",
    "    for file in file_list:\n",
    "        # Opens file as tsv file\n",
    "        with open(file, 'r') as tsv_file:\n",
    "            tsv_reader = csv.reader(tsv_file, delimiter='\\t')\n",
    "            data = list(tsv_reader)\n",
    "\n",
    "        # Adds list of genes and cell types\n",
    "        for sample in data:\n",
    "            if len(sample) == 7:\n",
    "                gene_list.append(sample[1])\n",
    "                cell_type_list.append(sample[5])\n",
    "\n",
    "        gene_list = list(set(gene_list))\n",
    "        cell_type_list = list(set(cell_type_list))\n",
    "\n",
    "        #creates a dictionary with key = gene and value = 0\n",
    "        gene_dict = {gene: 0 for gene in gene_list}\n",
    "\n",
    "        # creates dictionary of dictionaries with key as cell type and gene count as value\n",
    "        for cell in cell_type_list:\n",
    "            data_dict[cell] = gene_dict.copy()\n",
    "\n",
    "        # Counts ranks\n",
    "        for sample in data:\n",
    "            if len(sample) == 7:\n",
    "                if int(sample[6]) <= rank_cut_off:\n",
    "                    data_dict[sample[5]][sample[1]] += 1\n",
    "\n",
    "        samples_to_delete = list(data_dict.keys())\n",
    "\n",
    "        # Deletes cell types where expression is 0\n",
    "        for sample in samples_to_delete:\n",
    "            all_zero = all(value == 0 for value in data_dict[sample].values())\n",
    "            if all_zero:\n",
    "                del data_dict[sample]\n",
    "\n",
    "        if 'Unknown' in data_dict:\n",
    "            del data_dict['Unknown']\n",
    "\n",
    "        #Saves file\n",
    "        df = pd.DataFrame(data_dict).transpose()\n",
    "\n",
    "        df_file_name = \"df_\" + get_file_name(file) + \"_\" + str(rank_cut_off) + \".csv\"\n",
    "\n",
    "        df.to_csv(df_file_name, index=True)"
   ]
  },
  {
   "cell_type": "code",
   "execution_count": 52,
   "metadata": {},
   "outputs": [],
   "source": [
    "make_df(files, 20)\n",
    "make_df(files, 10)\n",
    "make_df(files, 5)"
   ]
  }
 ],
 "metadata": {
  "kernelspec": {
   "display_name": "Python 3",
   "language": "python",
   "name": "python3"
  },
  "language_info": {
   "codemirror_mode": {
    "name": "ipython",
    "version": 3
   },
   "file_extension": ".py",
   "mimetype": "text/x-python",
   "name": "python",
   "nbconvert_exporter": "python",
   "pygments_lexer": "ipython3",
   "version": "3.11.6"
  }
 },
 "nbformat": 4,
 "nbformat_minor": 2
}
